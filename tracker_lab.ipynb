{
 "cells": [
  {
   "cell_type": "code",
   "execution_count": 1,
   "metadata": {},
   "outputs": [
    {
     "name": "stderr",
     "output_type": "stream",
     "text": [
      "/home/a/.local/lib/python3.10/site-packages/tqdm/auto.py:21: TqdmWarning: IProgress not found. Please update jupyter and ipywidgets. See https://ipywidgets.readthedocs.io/en/stable/user_install.html\n",
      "  from .autonotebook import tqdm as notebook_tqdm\n"
     ]
    }
   ],
   "source": [
    "import pandas as pd\n",
    "from typing import List\n",
    "import torch\n",
    "from torch.utils.data.dataloader import DataLoader, Dataset\n",
    "import pytorch_lightning as pl\n",
    "from sklearn.model_selection import train_test_split\n",
    "from sklearn.metrics import r2_score, mean_absolute_error\n",
    "import mlflow\n",
    "from mlflow import MlflowClient"
   ]
  },
  {
   "cell_type": "code",
   "execution_count": 2,
   "metadata": {},
   "outputs": [
    {
     "name": "stderr",
     "output_type": "stream",
     "text": [
      "Seed set to 42\n"
     ]
    },
    {
     "data": {
      "text/plain": [
       "42"
      ]
     },
     "execution_count": 2,
     "metadata": {},
     "output_type": "execute_result"
    }
   ],
   "source": [
    "# Работаем над воспроизводимостью\n",
    "torch.random.manual_seed(42)\n",
    "import random\n",
    "random.seed(42)\n",
    "pl.seed_everything(42)"
   ]
  },
  {
   "cell_type": "code",
   "execution_count": 3,
   "metadata": {},
   "outputs": [],
   "source": [
    "# Шаг 0. Создаем модель, с которой будем работать\n",
    "# Step 0. Create the model, which we will be working with\n",
    "\n",
    "\n",
    "# Шаг 0.1 Готовим класс датасета для лайтнинга\n",
    "# Step 0.1 Preparing the Dataset class for Pytorch Lightning\n",
    "from pytorch_lightning.core.module import LightningModule\n",
    "from pytorch_lightning.trainer.trainer import Trainer\n",
    "\n",
    "\n",
    "class TorchModelData(Dataset):\n",
    "    def __init__(self, X: torch.Tensor, y: torch.Tensor):\n",
    "        super().__init__()\n",
    "        self.X = X\n",
    "        self.y = y\n",
    "\n",
    "    def __getitem__(self, idx):\n",
    "        return self.X[idx], self.y[idx]\n",
    "    \n",
    "    def __len__(self):\n",
    "        return self.X.shape[0]\n",
    "    \n",
    "\n",
    "\n",
    "# Шаг 0.2 Описываем модель\n",
    "class LightningModel(pl.LightningModule):\n",
    "    def __init__(\n",
    "            self,\n",
    "            in_features: int,\n",
    "            layer_neurons: List[int],\n",
    "            activation_function_class,\n",
    "            opt=torch.optim.NAdam,\n",
    "            lr=0.01\n",
    "    ):\n",
    "        super().__init__()\n",
    "        self._in_features = in_features\n",
    "        self._layer_neurons = layer_neurons\n",
    "        self._lr = lr\n",
    "        self._opt = opt\n",
    "\n",
    "        layers = []\n",
    "        for i in range(len(layer_neurons)):\n",
    "            if i == 0:\n",
    "                input_neurons = in_features\n",
    "            else:\n",
    "                input_neurons = layer_neurons[i-1]\n",
    "            \n",
    "            layers.append(torch.nn.Linear(input_neurons, layer_neurons[i]))\n",
    "            if i != (len(layer_neurons) - 1):\n",
    "                layers.append(activation_function_class())\n",
    "        \n",
    "        self._model = torch.nn.Sequential(*layers)\n",
    "\n",
    "    def forward(self, x):\n",
    "        return self._model(x)\n",
    "    \n",
    "    def training_step(self, batch, batch_idx):\n",
    "        x, y = batch\n",
    "        preds = self.forward(x)\n",
    "        loss = torch.mean((y - preds)**2)\n",
    "        self.log(\"train_mse\", loss, prog_bar=True, on_epoch=True, on_step=False)\n",
    "        return loss\n",
    "    \n",
    "    def validation_step(self, batch, batch_idx):\n",
    "        x, y = batch\n",
    "        preds = self.forward(x)\n",
    "        loss = torch.mean((y - preds)**2)\n",
    "        self.log(\"val_mse\", loss, prog_bar=True, on_epoch=True, on_step=False)\n",
    "        return loss\n",
    "    \n",
    "    def configure_optimizers(self):\n",
    "        opt = self._opt(self.parameters(), lr=self._lr)\n",
    "        return opt\n",
    "    \n",
    "\n",
    "# Шаг 0.3 - создаем обратный вызов pytorch lightning, где будем фиксировать метрики по эпохам\n",
    "# для MLFlow\n",
    "\n",
    "class MlflowMetricCallback(pl.Callback):\n",
    "    def __init__(self, train_tensor, val_tensor, y_train, y_val):\n",
    "        super().__init__()\n",
    "        self._train_X = train_tensor\n",
    "        self._val_X = val_tensor\n",
    "        self._y_train = y_train.detach().cpu().numpy()\n",
    "        self._y_val = y_val.detach().cpu().numpy()\n",
    "\n",
    "    def on_train_epoch_end(self, trainer: Trainer, pl_module: LightningModule):\n",
    "        preds_train = pl_module(self._train_X).detach().cpu().numpy()\n",
    "        preds_val = pl_module(self._val_X).detach().cpu().numpy()\n",
    "\n",
    "        epoch = trainer.current_epoch\n",
    "\n",
    "        metrics = {\n",
    "            \"Train MAE\": mean_absolute_error(self._y_train, preds_train),\n",
    "            \"Train R2\": r2_score(self._y_train, preds_train),\n",
    "            \"Eval MAE\": mean_absolute_error(self._y_val, preds_val),\n",
    "            \"Eval R2\": r2_score(self._y_val, preds_val)\n",
    "        }\n",
    "\n",
    "        mlflow.log_metrics(metrics, step=epoch)"
   ]
  },
  {
   "cell_type": "code",
   "execution_count": 4,
   "metadata": {},
   "outputs": [
    {
     "data": {
      "text/html": [
       "<div>\n",
       "<style scoped>\n",
       "    .dataframe tbody tr th:only-of-type {\n",
       "        vertical-align: middle;\n",
       "    }\n",
       "\n",
       "    .dataframe tbody tr th {\n",
       "        vertical-align: top;\n",
       "    }\n",
       "\n",
       "    .dataframe thead th {\n",
       "        text-align: right;\n",
       "    }\n",
       "</style>\n",
       "<table border=\"1\" class=\"dataframe\">\n",
       "  <thead>\n",
       "    <tr style=\"text-align: right;\">\n",
       "      <th></th>\n",
       "      <th>Cement (component 1)(kg in a m^3 mixture)</th>\n",
       "      <th>Blast Furnace Slag (component 2)(kg in a m^3 mixture)</th>\n",
       "      <th>Fly Ash (component 3)(kg in a m^3 mixture)</th>\n",
       "      <th>Water  (component 4)(kg in a m^3 mixture)</th>\n",
       "      <th>Superplasticizer (component 5)(kg in a m^3 mixture)</th>\n",
       "      <th>Coarse Aggregate  (component 6)(kg in a m^3 mixture)</th>\n",
       "      <th>Fine Aggregate (component 7)(kg in a m^3 mixture)</th>\n",
       "      <th>Age (day)</th>\n",
       "      <th>Concrete compressive strength(MPa, megapascals)</th>\n",
       "    </tr>\n",
       "  </thead>\n",
       "  <tbody>\n",
       "    <tr>\n",
       "      <th>0</th>\n",
       "      <td>540.0</td>\n",
       "      <td>0.0</td>\n",
       "      <td>0.0</td>\n",
       "      <td>162.0</td>\n",
       "      <td>2.5</td>\n",
       "      <td>1040.0</td>\n",
       "      <td>676.0</td>\n",
       "      <td>28</td>\n",
       "      <td>79.986111</td>\n",
       "    </tr>\n",
       "    <tr>\n",
       "      <th>1</th>\n",
       "      <td>540.0</td>\n",
       "      <td>0.0</td>\n",
       "      <td>0.0</td>\n",
       "      <td>162.0</td>\n",
       "      <td>2.5</td>\n",
       "      <td>1055.0</td>\n",
       "      <td>676.0</td>\n",
       "      <td>28</td>\n",
       "      <td>61.887366</td>\n",
       "    </tr>\n",
       "    <tr>\n",
       "      <th>2</th>\n",
       "      <td>332.5</td>\n",
       "      <td>142.5</td>\n",
       "      <td>0.0</td>\n",
       "      <td>228.0</td>\n",
       "      <td>0.0</td>\n",
       "      <td>932.0</td>\n",
       "      <td>594.0</td>\n",
       "      <td>270</td>\n",
       "      <td>40.269535</td>\n",
       "    </tr>\n",
       "    <tr>\n",
       "      <th>3</th>\n",
       "      <td>332.5</td>\n",
       "      <td>142.5</td>\n",
       "      <td>0.0</td>\n",
       "      <td>228.0</td>\n",
       "      <td>0.0</td>\n",
       "      <td>932.0</td>\n",
       "      <td>594.0</td>\n",
       "      <td>365</td>\n",
       "      <td>41.052780</td>\n",
       "    </tr>\n",
       "    <tr>\n",
       "      <th>4</th>\n",
       "      <td>198.6</td>\n",
       "      <td>132.4</td>\n",
       "      <td>0.0</td>\n",
       "      <td>192.0</td>\n",
       "      <td>0.0</td>\n",
       "      <td>978.4</td>\n",
       "      <td>825.5</td>\n",
       "      <td>360</td>\n",
       "      <td>44.296075</td>\n",
       "    </tr>\n",
       "    <tr>\n",
       "      <th>...</th>\n",
       "      <td>...</td>\n",
       "      <td>...</td>\n",
       "      <td>...</td>\n",
       "      <td>...</td>\n",
       "      <td>...</td>\n",
       "      <td>...</td>\n",
       "      <td>...</td>\n",
       "      <td>...</td>\n",
       "      <td>...</td>\n",
       "    </tr>\n",
       "    <tr>\n",
       "      <th>1025</th>\n",
       "      <td>276.4</td>\n",
       "      <td>116.0</td>\n",
       "      <td>90.3</td>\n",
       "      <td>179.6</td>\n",
       "      <td>8.9</td>\n",
       "      <td>870.1</td>\n",
       "      <td>768.3</td>\n",
       "      <td>28</td>\n",
       "      <td>44.284354</td>\n",
       "    </tr>\n",
       "    <tr>\n",
       "      <th>1026</th>\n",
       "      <td>322.2</td>\n",
       "      <td>0.0</td>\n",
       "      <td>115.6</td>\n",
       "      <td>196.0</td>\n",
       "      <td>10.4</td>\n",
       "      <td>817.9</td>\n",
       "      <td>813.4</td>\n",
       "      <td>28</td>\n",
       "      <td>31.178794</td>\n",
       "    </tr>\n",
       "    <tr>\n",
       "      <th>1027</th>\n",
       "      <td>148.5</td>\n",
       "      <td>139.4</td>\n",
       "      <td>108.6</td>\n",
       "      <td>192.7</td>\n",
       "      <td>6.1</td>\n",
       "      <td>892.4</td>\n",
       "      <td>780.0</td>\n",
       "      <td>28</td>\n",
       "      <td>23.696601</td>\n",
       "    </tr>\n",
       "    <tr>\n",
       "      <th>1028</th>\n",
       "      <td>159.1</td>\n",
       "      <td>186.7</td>\n",
       "      <td>0.0</td>\n",
       "      <td>175.6</td>\n",
       "      <td>11.3</td>\n",
       "      <td>989.6</td>\n",
       "      <td>788.9</td>\n",
       "      <td>28</td>\n",
       "      <td>32.768036</td>\n",
       "    </tr>\n",
       "    <tr>\n",
       "      <th>1029</th>\n",
       "      <td>260.9</td>\n",
       "      <td>100.5</td>\n",
       "      <td>78.3</td>\n",
       "      <td>200.6</td>\n",
       "      <td>8.6</td>\n",
       "      <td>864.5</td>\n",
       "      <td>761.5</td>\n",
       "      <td>28</td>\n",
       "      <td>32.401235</td>\n",
       "    </tr>\n",
       "  </tbody>\n",
       "</table>\n",
       "<p>1030 rows × 9 columns</p>\n",
       "</div>"
      ],
      "text/plain": [
       "      Cement (component 1)(kg in a m^3 mixture)  \\\n",
       "0                                         540.0   \n",
       "1                                         540.0   \n",
       "2                                         332.5   \n",
       "3                                         332.5   \n",
       "4                                         198.6   \n",
       "...                                         ...   \n",
       "1025                                      276.4   \n",
       "1026                                      322.2   \n",
       "1027                                      148.5   \n",
       "1028                                      159.1   \n",
       "1029                                      260.9   \n",
       "\n",
       "      Blast Furnace Slag (component 2)(kg in a m^3 mixture)  \\\n",
       "0                                                   0.0       \n",
       "1                                                   0.0       \n",
       "2                                                 142.5       \n",
       "3                                                 142.5       \n",
       "4                                                 132.4       \n",
       "...                                                 ...       \n",
       "1025                                              116.0       \n",
       "1026                                                0.0       \n",
       "1027                                              139.4       \n",
       "1028                                              186.7       \n",
       "1029                                              100.5       \n",
       "\n",
       "      Fly Ash (component 3)(kg in a m^3 mixture)  \\\n",
       "0                                            0.0   \n",
       "1                                            0.0   \n",
       "2                                            0.0   \n",
       "3                                            0.0   \n",
       "4                                            0.0   \n",
       "...                                          ...   \n",
       "1025                                        90.3   \n",
       "1026                                       115.6   \n",
       "1027                                       108.6   \n",
       "1028                                         0.0   \n",
       "1029                                        78.3   \n",
       "\n",
       "      Water  (component 4)(kg in a m^3 mixture)  \\\n",
       "0                                         162.0   \n",
       "1                                         162.0   \n",
       "2                                         228.0   \n",
       "3                                         228.0   \n",
       "4                                         192.0   \n",
       "...                                         ...   \n",
       "1025                                      179.6   \n",
       "1026                                      196.0   \n",
       "1027                                      192.7   \n",
       "1028                                      175.6   \n",
       "1029                                      200.6   \n",
       "\n",
       "      Superplasticizer (component 5)(kg in a m^3 mixture)  \\\n",
       "0                                                   2.5     \n",
       "1                                                   2.5     \n",
       "2                                                   0.0     \n",
       "3                                                   0.0     \n",
       "4                                                   0.0     \n",
       "...                                                 ...     \n",
       "1025                                                8.9     \n",
       "1026                                               10.4     \n",
       "1027                                                6.1     \n",
       "1028                                               11.3     \n",
       "1029                                                8.6     \n",
       "\n",
       "      Coarse Aggregate  (component 6)(kg in a m^3 mixture)  \\\n",
       "0                                                1040.0      \n",
       "1                                                1055.0      \n",
       "2                                                 932.0      \n",
       "3                                                 932.0      \n",
       "4                                                 978.4      \n",
       "...                                                 ...      \n",
       "1025                                              870.1      \n",
       "1026                                              817.9      \n",
       "1027                                              892.4      \n",
       "1028                                              989.6      \n",
       "1029                                              864.5      \n",
       "\n",
       "      Fine Aggregate (component 7)(kg in a m^3 mixture)  Age (day)  \\\n",
       "0                                                 676.0         28   \n",
       "1                                                 676.0         28   \n",
       "2                                                 594.0        270   \n",
       "3                                                 594.0        365   \n",
       "4                                                 825.5        360   \n",
       "...                                                 ...        ...   \n",
       "1025                                              768.3         28   \n",
       "1026                                              813.4         28   \n",
       "1027                                              780.0         28   \n",
       "1028                                              788.9         28   \n",
       "1029                                              761.5         28   \n",
       "\n",
       "      Concrete compressive strength(MPa, megapascals)   \n",
       "0                                            79.986111  \n",
       "1                                            61.887366  \n",
       "2                                            40.269535  \n",
       "3                                            41.052780  \n",
       "4                                            44.296075  \n",
       "...                                                ...  \n",
       "1025                                         44.284354  \n",
       "1026                                         31.178794  \n",
       "1027                                         23.696601  \n",
       "1028                                         32.768036  \n",
       "1029                                         32.401235  \n",
       "\n",
       "[1030 rows x 9 columns]"
      ]
     },
     "execution_count": 4,
     "metadata": {},
     "output_type": "execute_result"
    }
   ],
   "source": [
    "# Шаг 1. Загружаем данные\n",
    "data = pd.read_excel(\"Concrete_Data.xls\")\n",
    "data"
   ]
  },
  {
   "cell_type": "code",
   "execution_count": 5,
   "metadata": {},
   "outputs": [],
   "source": [
    "target_name = \"Concrete compressive strength(MPa, megapascals) \""
   ]
  },
  {
   "cell_type": "code",
   "execution_count": 6,
   "metadata": {},
   "outputs": [],
   "source": [
    "# Шаг 2. Разбиваем данные на тренировку и валидацию\n",
    "\n",
    "X_train, X_val = train_test_split(data, test_size=0.2, shuffle=True, random_state=42)\n",
    "y_train, y_val = X_train.pop(target_name), X_val.pop(target_name)"
   ]
  },
  {
   "cell_type": "code",
   "execution_count": 7,
   "metadata": {},
   "outputs": [
    {
     "data": {
      "image/png": "[encoded data removed]",
      "text/plain": [
       "<Figure size 640x480 with 2 Axes>"
      ]
     },
     "metadata": {},
     "output_type": "display_data"
    }
   ],
   "source": [
    "import matplotlib.pyplot as plt\n",
    "\n",
    "fig, axs = plt.subplots(nrows=1, ncols=2)\n",
    "y_train.hist(bins=50, ax=axs[0])\n",
    "y_val.hist(bins=50, ax=axs[1])\n",
    "plt.show()"
   ]
  },
  {
   "cell_type": "code",
   "execution_count": 8,
   "metadata": {},
   "outputs": [],
   "source": [
    "# Трансформируем данные\n",
    "from sklearn.preprocessing import RobustScaler\n",
    "\n",
    "sc = RobustScaler()\n",
    "sc.fit(X_train)\n",
    "\n",
    "train_tensor = sc.transform(X_train)\n",
    "train_tensor = torch.as_tensor(train_tensor, dtype=torch.float32)\n",
    "\n",
    "val_tensor = sc.transform(X_val)\n",
    "val_tensor = torch.as_tensor(val_tensor, dtype=torch.float32)\n",
    "\n",
    "y_train_tensor = torch.as_tensor(y_train.to_numpy(), dtype=torch.float32)\n",
    "y_val_tensor = torch.as_tensor(y_val.to_numpy(), dtype=torch.float32)"
   ]
  },
  {
   "cell_type": "code",
   "execution_count": 9,
   "metadata": {},
   "outputs": [],
   "source": [
    "# Создаем загрузчики данных\n",
    "train_ds = TorchModelData(train_tensor, y_train_tensor)\n",
    "val_ds = TorchModelData(val_tensor, y_val_tensor)\n",
    "\n",
    "train_dataloader = DataLoader(train_ds, batch_size=256)\n",
    "val_dataloader = DataLoader(val_ds, batch_size=256)"
   ]
  },
  {
   "cell_type": "code",
   "execution_count": 10,
   "metadata": {},
   "outputs": [
    {
     "name": "stderr",
     "output_type": "stream",
     "text": [
      "GPU available: True (cuda), used: False\n",
      "TPU available: False, using: 0 TPU cores\n",
      "IPU available: False, using: 0 IPUs\n",
      "HPU available: False, using: 0 HPUs\n",
      "/home/a/.local/lib/python3.10/site-packages/pytorch_lightning/trainer/setup.py:187: GPU available but not used. You can set it by doing `Trainer(accelerator='gpu')`.\n",
      "\n",
      "  | Name   | Type       | Params\n",
      "--------------------------------------\n",
      "0 | _model | Sequential | 21    \n",
      "--------------------------------------\n",
      "21        Trainable params\n",
      "0         Non-trainable params\n",
      "21        Total params\n",
      "0.000     Total estimated model params size (MB)\n"
     ]
    },
    {
     "name": "stdout",
     "output_type": "stream",
     "text": [
      "                                                                            "
     ]
    },
    {
     "name": "stderr",
     "output_type": "stream",
     "text": [
      "/home/a/.local/lib/python3.10/site-packages/pytorch_lightning/trainer/connectors/data_connector.py:441: The 'val_dataloader' does not have many workers which may be a bottleneck. Consider increasing the value of the `num_workers` argument` to `num_workers=19` in the `DataLoader` to improve performance.\n",
      "/home/a/.local/lib/python3.10/site-packages/pytorch_lightning/trainer/connectors/data_connector.py:441: The 'train_dataloader' does not have many workers which may be a bottleneck. Consider increasing the value of the `num_workers` argument` to `num_workers=19` in the `DataLoader` to improve performance.\n",
      "/home/a/.local/lib/python3.10/site-packages/pytorch_lightning/loops/fit_loop.py:293: The number of training batches (4) is smaller than the logging interval Trainer(log_every_n_steps=50). Set a lower value for log_every_n_steps if you want to see logs for the training epoch.\n"
     ]
    },
    {
     "name": "stdout",
     "output_type": "stream",
     "text": [
      "Epoch 4: 100%|██████████| 4/4 [00:00<00:00, 157.24it/s, v_num=42, val_mse=1.52e+3, train_mse=1.57e+3]"
     ]
    },
    {
     "name": "stderr",
     "output_type": "stream",
     "text": [
      "`Trainer.fit` stopped: `max_epochs=5` reached.\n"
     ]
    },
    {
     "name": "stdout",
     "output_type": "stream",
     "text": [
      "Epoch 4: 100%|██████████| 4/4 [00:00<00:00, 135.89it/s, v_num=42, val_mse=1.52e+3, train_mse=1.57e+3]\n"
     ]
    }
   ],
   "source": [
    "# Обучаем тестовую модель\n",
    "model = LightningModel(\n",
    "    train_tensor.shape[1],\n",
    "    [2, 1],\n",
    "    torch.nn.ReLU\n",
    ")\n",
    "\n",
    "trainer = pl.Trainer(max_epochs=5, accelerator='cpu')\n",
    "trainer.fit(model, train_dataloaders=train_dataloader, val_dataloaders=val_dataloader)"
   ]
  },
  {
   "cell_type": "code",
   "execution_count": 11,
   "metadata": {},
   "outputs": [
    {
     "name": "stdout",
     "output_type": "stream",
     "text": [
      "[<Experiment: artifact_location='mlflow-artifacts:/735113632342717487', creation_time=1715598420516, experiment_id='735113632342717487', last_update_time=1715598420516, lifecycle_stage='active', name='Concrete_Models', tags={'mlflow.note.content': 'Experiment on forecasting concrete strength',\n",
      " 'project_name': 'concrete-strength'}>, <Experiment: artifact_location='mlflow-artifacts:/0', creation_time=1715594875056, experiment_id='0', last_update_time=1715594875056, lifecycle_stage='active', name='Default', tags={}>]\n"
     ]
    }
   ],
   "source": [
    "# Обучение прошло успешно, подключаем MLFLow\n",
    "# Сначала запустим локальный сервер\n",
    "# Для этого в терминале:\n",
    "# mlflow server --host 127.0.0.1 --port 8080\n",
    "\n",
    "# Далее, при включенном сервере:\n",
    "\n",
    "client = MlflowClient(tracking_uri=\"http://127.0.0.1:8080\")\n",
    "\n",
    "all_experiments = client.search_experiments()\n",
    "print(all_experiments)"
   ]
  },
  {
   "cell_type": "code",
   "execution_count": 12,
   "metadata": {},
   "outputs": [],
   "source": [
    "# Создаем эксперимент, если его еще нет\n",
    "concrete_experiment = client.search_experiments(\n",
    "    filter_string=\"tags.`project_name` = 'concrete-strength'\"\n",
    ")\n",
    "\n",
    "if len(concrete_experiment) == 0:\n",
    "    experiment_description = (\n",
    "        \"Experiment on forecasting concrete strength\"\n",
    "    )\n",
    "\n",
    "    # Добавляем теги\n",
    "    experiment_tags = {\n",
    "        \"project_name\": \"concrete-strength\",\n",
    "        \"mlflow.note.content\": experiment_description,\n",
    "    }\n",
    "\n",
    "    # Создаем эксперимент, даем ему уникальное имя\n",
    "    concrete_experiment = client.create_experiment(\n",
    "        name=\"Concrete_Models\", tags=experiment_tags\n",
    "    )"
   ]
  },
  {
   "cell_type": "code",
   "execution_count": 13,
   "metadata": {},
   "outputs": [
    {
     "name": "stderr",
     "output_type": "stream",
     "text": [
      "GPU available: True (cuda), used: False\n",
      "TPU available: False, using: 0 TPU cores\n",
      "IPU available: False, using: 0 IPUs\n",
      "HPU available: False, using: 0 HPUs\n",
      "/home/a/.local/lib/python3.10/site-packages/pytorch_lightning/trainer/setup.py:187: GPU available but not used. You can set it by doing `Trainer(accelerator='gpu')`.\n",
      "\n",
      "  | Name   | Type       | Params\n",
      "--------------------------------------\n",
      "0 | _model | Sequential | 41    \n",
      "--------------------------------------\n",
      "41        Trainable params\n",
      "0         Non-trainable params\n",
      "41        Total params\n",
      "0.000     Total estimated model params size (MB)\n"
     ]
    },
    {
     "name": "stdout",
     "output_type": "stream",
     "text": [
      "                                                                            \r"
     ]
    },
    {
     "name": "stderr",
     "output_type": "stream",
     "text": [
      "/home/a/.local/lib/python3.10/site-packages/pytorch_lightning/trainer/connectors/data_connector.py:441: The 'val_dataloader' does not have many workers which may be a bottleneck. Consider increasing the value of the `num_workers` argument` to `num_workers=19` in the `DataLoader` to improve performance.\n",
      "/home/a/.local/lib/python3.10/site-packages/pytorch_lightning/trainer/connectors/data_connector.py:441: The 'train_dataloader' does not have many workers which may be a bottleneck. Consider increasing the value of the `num_workers` argument` to `num_workers=19` in the `DataLoader` to improve performance.\n",
      "/home/a/.local/lib/python3.10/site-packages/pytorch_lightning/loops/fit_loop.py:293: The number of training batches (4) is smaller than the logging interval Trainer(log_every_n_steps=50). Set a lower value for log_every_n_steps if you want to see logs for the training epoch.\n"
     ]
    },
    {
     "name": "stdout",
     "output_type": "stream",
     "text": [
      "Epoch 4: 100%|██████████| 4/4 [00:00<00:00, 101.50it/s, v_num=43, val_mse=1.49e+3, train_mse=1.55e+3]"
     ]
    },
    {
     "name": "stderr",
     "output_type": "stream",
     "text": [
      "`Trainer.fit` stopped: `max_epochs=5` reached.\n"
     ]
    },
    {
     "name": "stdout",
     "output_type": "stream",
     "text": [
      "Epoch 4: 100%|██████████| 4/4 [00:00<00:00, 89.18it/s, v_num=43, val_mse=1.49e+3, train_mse=1.55e+3] \n",
      "{'Final Eval MAE': 35.15579, 'Final Eval R2': -4.780042539483034}\n"
     ]
    },
    {
     "name": "stderr",
     "output_type": "stream",
     "text": [
      "/usr/local/lib/python3.10/site-packages/_distutils_hack/__init__.py:33: UserWarning: Setuptools is replacing distutils.\n",
      "  warnings.warn(\"Setuptools is replacing distutils.\")\n"
     ]
    }
   ],
   "source": [
    "# Обучаем нормальный бейзлайн, логируем параметры\n",
    "\n",
    "mlflow.set_tracking_uri(\"http://127.0.0.1:8080\")\n",
    "experiment = mlflow.set_experiment(\"Concrete_Models\")\n",
    "\n",
    "run_name = \"Baseline Model\"\n",
    "artifact_path = \"BaselineModel\"\n",
    "\n",
    "with mlflow.start_run(run_name=run_name) as run:\n",
    "    model_params = {\n",
    "        \"in_features\": train_tensor.shape[1],\n",
    "        \"layer_neurons\": [4, 1],\n",
    "        \"activation_function_class\": torch.nn.ReLU\n",
    "    }\n",
    "\n",
    "    # Обучаем тестовую модель\n",
    "    model = LightningModel(**model_params)\n",
    "\n",
    "    mlflow_callback = MlflowMetricCallback(train_tensor, val_tensor, y_train_tensor, y_val_tensor)\n",
    "\n",
    "    trainer = pl.Trainer(max_epochs=15, accelerator='cpu', callbacks=[mlflow_callback])\n",
    "    trainer.fit(model, train_dataloaders=train_dataloader, val_dataloaders=val_dataloader)\n",
    "\n",
    "    model.eval()\n",
    "    preds = model(val_tensor)\n",
    "\n",
    "    detached_real = y_val_tensor.detach().cpu().numpy()\n",
    "    detached_pred = preds.detach().cpu().numpy()\n",
    "\n",
    "    metrics = {\n",
    "        \"Final Eval MAE\": mean_absolute_error(detached_real, detached_pred),\n",
    "        \"Final Eval R2\": r2_score(detached_real, detached_pred)\n",
    "    }\n",
    "\n",
    "    # Запишем данные по эксперименту в MLFlow\n",
    " \n",
    "    mlflow.log_params(model_params)\n",
    "    mlflow.log_metrics(metrics)\n",
    "    mlflow.pytorch.log_model(model, artifact_path)\n",
    "\n",
    "mlflow.end_run()\n",
    "\n",
    "print(metrics)"
   ]
  },
  {
   "cell_type": "code",
   "execution_count": 14,
   "metadata": {},
   "outputs": [
    {
     "name": "stderr",
     "output_type": "stream",
     "text": [
      "GPU available: True (cuda), used: False\n",
      "TPU available: False, using: 0 TPU cores\n",
      "IPU available: False, using: 0 IPUs\n",
      "HPU available: False, using: 0 HPUs\n",
      "/home/a/.local/lib/python3.10/site-packages/pytorch_lightning/trainer/setup.py:187: GPU available but not used. You can set it by doing `Trainer(accelerator='gpu')`.\n",
      "\n",
      "  | Name   | Type       | Params\n",
      "--------------------------------------\n",
      "0 | _model | Sequential | 41    \n",
      "--------------------------------------\n",
      "41        Trainable params\n",
      "0         Non-trainable params\n",
      "41        Total params\n",
      "0.000     Total estimated model params size (MB)\n"
     ]
    },
    {
     "name": "stdout",
     "output_type": "stream",
     "text": [
      "                                                                            "
     ]
    },
    {
     "name": "stderr",
     "output_type": "stream",
     "text": [
      "/home/a/.local/lib/python3.10/site-packages/pytorch_lightning/trainer/connectors/data_connector.py:441: The 'val_dataloader' does not have many workers which may be a bottleneck. Consider increasing the value of the `num_workers` argument` to `num_workers=19` in the `DataLoader` to improve performance.\n",
      "/home/a/.local/lib/python3.10/site-packages/pytorch_lightning/trainer/connectors/data_connector.py:441: The 'train_dataloader' does not have many workers which may be a bottleneck. Consider increasing the value of the `num_workers` argument` to `num_workers=19` in the `DataLoader` to improve performance.\n",
      "/home/a/.local/lib/python3.10/site-packages/pytorch_lightning/loops/fit_loop.py:293: The number of training batches (4) is smaller than the logging interval Trainer(log_every_n_steps=50). Set a lower value for log_every_n_steps if you want to see logs for the training epoch.\n"
     ]
    },
    {
     "name": "stdout",
     "output_type": "stream",
     "text": [
      "Epoch 4: 100%|██████████| 4/4 [00:00<00:00, 99.42it/s, v_num=44, val_mse=278.0, train_mse=298.0]     "
     ]
    },
    {
     "name": "stderr",
     "output_type": "stream",
     "text": [
      "`Trainer.fit` stopped: `max_epochs=5` reached.\n"
     ]
    },
    {
     "name": "stdout",
     "output_type": "stream",
     "text": [
      "Epoch 4: 100%|██████████| 4/4 [00:00<00:00, 90.10it/s, v_num=44, val_mse=278.0, train_mse=298.0]\n",
      "{'Final Eval MAE': 12.709404, 'Final Eval R2': 0.07033993794851057}\n"
     ]
    }
   ],
   "source": [
    "# Гипотеза 1: Неподходящий оптимизатор: попробуем SGD\n",
    "run_name = \"SGD Model\"\n",
    "artifact_path = \"SGDModel\"\n",
    "\n",
    "with mlflow.start_run(run_name=run_name) as run:\n",
    "    model_params = {\n",
    "        \"in_features\": train_tensor.shape[1],\n",
    "        \"layer_neurons\": [4, 1],\n",
    "        \"activation_function_class\": torch.nn.ReLU,\n",
    "        \"opt\": torch.optim.SGD,\n",
    "        \"lr\": 0.01\n",
    "    }\n",
    "\n",
    "    # Обучаем тестовую модель\n",
    "    model = LightningModel(**model_params)\n",
    "\n",
    "    mlflow_callback = MlflowMetricCallback(train_tensor, val_tensor, y_train_tensor, y_val_tensor)\n",
    "\n",
    "    trainer = pl.Trainer(max_epochs=15, accelerator='cpu', callbacks=[mlflow_callback])\n",
    "    trainer.fit(model, train_dataloaders=train_dataloader, val_dataloaders=val_dataloader)\n",
    "\n",
    "    model.eval()\n",
    "    preds = model(val_tensor)\n",
    "\n",
    "    detached_real = y_val_tensor.detach().cpu().numpy()\n",
    "    detached_pred = preds.detach().cpu().numpy()\n",
    "\n",
    "    metrics = {\n",
    "        \"Final Eval MAE\": mean_absolute_error(detached_real, detached_pred),\n",
    "        \"Final Eval R2\": r2_score(detached_real, detached_pred)\n",
    "    }\n",
    "\n",
    "    # Запишем данные по эксперименту в MLFlow\n",
    " \n",
    "    mlflow.log_params(model_params)\n",
    "    mlflow.log_metrics(metrics)\n",
    "    mlflow.pytorch.log_model(model, artifact_path)\n",
    "\n",
    "mlflow.end_run()\n",
    "\n",
    "print(metrics)"
   ]
  },
  {
   "cell_type": "code",
   "execution_count": 15,
   "metadata": {},
   "outputs": [
    {
     "name": "stderr",
     "output_type": "stream",
     "text": [
      "GPU available: True (cuda), used: False\n",
      "TPU available: False, using: 0 TPU cores\n",
      "IPU available: False, using: 0 IPUs\n",
      "HPU available: False, using: 0 HPUs\n",
      "/home/a/.local/lib/python3.10/site-packages/pytorch_lightning/trainer/setup.py:187: GPU available but not used. You can set it by doing `Trainer(accelerator='gpu')`.\n",
      "\n",
      "  | Name   | Type       | Params\n",
      "--------------------------------------\n",
      "0 | _model | Sequential | 833   \n",
      "--------------------------------------\n",
      "833       Trainable params\n",
      "0         Non-trainable params\n",
      "833       Total params\n",
      "0.003     Total estimated model params size (MB)\n"
     ]
    },
    {
     "name": "stdout",
     "output_type": "stream",
     "text": [
      "                                                                            "
     ]
    },
    {
     "name": "stderr",
     "output_type": "stream",
     "text": [
      "/home/a/.local/lib/python3.10/site-packages/pytorch_lightning/trainer/connectors/data_connector.py:441: The 'val_dataloader' does not have many workers which may be a bottleneck. Consider increasing the value of the `num_workers` argument` to `num_workers=19` in the `DataLoader` to improve performance.\n",
      "/home/a/.local/lib/python3.10/site-packages/pytorch_lightning/trainer/connectors/data_connector.py:441: The 'train_dataloader' does not have many workers which may be a bottleneck. Consider increasing the value of the `num_workers` argument` to `num_workers=19` in the `DataLoader` to improve performance.\n",
      "/home/a/.local/lib/python3.10/site-packages/pytorch_lightning/loops/fit_loop.py:293: The number of training batches (4) is smaller than the logging interval Trainer(log_every_n_steps=50). Set a lower value for log_every_n_steps if you want to see logs for the training epoch.\n"
     ]
    },
    {
     "name": "stdout",
     "output_type": "stream",
     "text": [
      "Epoch 4: 100%|██████████| 4/4 [00:00<00:00, 79.77it/s, v_num=45, val_mse=735.0, train_mse=1.01e+3]   "
     ]
    },
    {
     "name": "stderr",
     "output_type": "stream",
     "text": [
      "`Trainer.fit` stopped: `max_epochs=5` reached.\n"
     ]
    },
    {
     "name": "stdout",
     "output_type": "stream",
     "text": [
      "Epoch 4: 100%|██████████| 4/4 [00:00<00:00, 71.65it/s, v_num=45, val_mse=735.0, train_mse=1.01e+3]\n",
      "{'Final Eval MAE': 21.068789, 'Final Eval R2': -1.4267559497231592}\n"
     ]
    }
   ],
   "source": [
    "# Гипотеза 2: слишком мало нейронов. Попробуем увеличить\n",
    "\n",
    "run_name = \"More Neurons Model\"\n",
    "artifact_path = \"ManyNeuronsModel\"\n",
    "\n",
    "with mlflow.start_run(run_name=run_name) as run:\n",
    "    model_params = {\n",
    "        \"in_features\": train_tensor.shape[1],\n",
    "        \"layer_neurons\": [32, 16, 1],\n",
    "        \"activation_function_class\": torch.nn.ReLU,\n",
    "        \"lr\": 0.01\n",
    "    }\n",
    "\n",
    "    # Обучаем тестовую модель\n",
    "    model = LightningModel(**model_params)\n",
    "\n",
    "    mlflow_callback = MlflowMetricCallback(train_tensor, val_tensor, y_train_tensor, y_val_tensor)\n",
    "\n",
    "    trainer = pl.Trainer(max_epochs=15, accelerator='cpu', callbacks=[mlflow_callback])\n",
    "    trainer.fit(model, train_dataloaders=train_dataloader, val_dataloaders=val_dataloader)\n",
    "\n",
    "    model.eval()\n",
    "    preds = model(val_tensor)\n",
    "\n",
    "    detached_real = y_val_tensor.detach().cpu().numpy()\n",
    "    detached_pred = preds.detach().cpu().numpy()\n",
    "\n",
    "    metrics = {\n",
    "        \"Final Eval MAE\": mean_absolute_error(detached_real, detached_pred),\n",
    "        \"Final Eval R2\": r2_score(detached_real, detached_pred)\n",
    "    }\n",
    "\n",
    "    # Запишем данные по эксперименту в MLFlow\n",
    " \n",
    "    mlflow.log_params(model_params)\n",
    "    mlflow.log_metrics(metrics)\n",
    "    mlflow.pytorch.log_model(model, artifact_path)\n",
    "\n",
    "mlflow.end_run()\n",
    "\n",
    "print(metrics)"
   ]
  },
  {
   "cell_type": "code",
   "execution_count": 16,
   "metadata": {},
   "outputs": [
    {
     "name": "stderr",
     "output_type": "stream",
     "text": [
      "GPU available: True (cuda), used: False\n",
      "TPU available: False, using: 0 TPU cores\n",
      "IPU available: False, using: 0 IPUs\n",
      "HPU available: False, using: 0 HPUs\n",
      "/home/a/.local/lib/python3.10/site-packages/pytorch_lightning/trainer/setup.py:187: GPU available but not used. You can set it by doing `Trainer(accelerator='gpu')`.\n",
      "\n",
      "  | Name   | Type       | Params\n",
      "--------------------------------------\n",
      "0 | _model | Sequential | 121   \n",
      "--------------------------------------\n",
      "121       Trainable params\n",
      "0         Non-trainable params\n",
      "121       Total params\n",
      "0.000     Total estimated model params size (MB)\n"
     ]
    },
    {
     "name": "stdout",
     "output_type": "stream",
     "text": [
      "                                                                            "
     ]
    },
    {
     "name": "stderr",
     "output_type": "stream",
     "text": [
      "/home/a/.local/lib/python3.10/site-packages/pytorch_lightning/trainer/connectors/data_connector.py:441: The 'val_dataloader' does not have many workers which may be a bottleneck. Consider increasing the value of the `num_workers` argument` to `num_workers=19` in the `DataLoader` to improve performance.\n",
      "/home/a/.local/lib/python3.10/site-packages/pytorch_lightning/trainer/connectors/data_connector.py:441: The 'train_dataloader' does not have many workers which may be a bottleneck. Consider increasing the value of the `num_workers` argument` to `num_workers=19` in the `DataLoader` to improve performance.\n",
      "/home/a/.local/lib/python3.10/site-packages/pytorch_lightning/loops/fit_loop.py:293: The number of training batches (4) is smaller than the logging interval Trainer(log_every_n_steps=50). Set a lower value for log_every_n_steps if you want to see logs for the training epoch.\n"
     ]
    },
    {
     "name": "stdout",
     "output_type": "stream",
     "text": [
      "Epoch 9: 100%|██████████| 4/4 [00:00<00:00, 94.19it/s, v_num=46, val_mse=1.14e+3, train_mse=1.22e+3] "
     ]
    },
    {
     "name": "stderr",
     "output_type": "stream",
     "text": [
      "`Trainer.fit` stopped: `max_epochs=10` reached.\n"
     ]
    },
    {
     "name": "stdout",
     "output_type": "stream",
     "text": [
      "Epoch 9: 100%|██████████| 4/4 [00:00<00:00, 84.36it/s, v_num=46, val_mse=1.14e+3, train_mse=1.22e+3]\n",
      "{'Final Eval MAE': 29.293703, 'Final Eval R2': -3.287185736321133}\n"
     ]
    }
   ],
   "source": [
    "# Гипотеза 3: недостаточно гибкая функция активации. Попробуем GELU + добавим эпох обучения\n",
    "\n",
    "run_name = \"Many Neurons, GELU, more train time\"\n",
    "artifact_path = \"NeuronsGeluTrainTime\"\n",
    "\n",
    "with mlflow.start_run(run_name=run_name) as run:\n",
    "    model_params = {\n",
    "        \"in_features\": train_tensor.shape[1],\n",
    "        \"layer_neurons\": [12, 1],\n",
    "        \"activation_function_class\": torch.nn.GELU,\n",
    "        \"lr\": 0.01\n",
    "    }\n",
    "\n",
    "    # Обучаем тестовую модель\n",
    "    model = LightningModel(**model_params)\n",
    "\n",
    "    mlflow_callback = MlflowMetricCallback(train_tensor, val_tensor, y_train_tensor, y_val_tensor)\n",
    "\n",
    "    trainer = pl.Trainer(max_epochs=25, accelerator='cpu', callbacks=[mlflow_callback])\n",
    "    trainer.fit(model, train_dataloaders=train_dataloader, val_dataloaders=val_dataloader)\n",
    "\n",
    "    model.eval()\n",
    "    preds = model(val_tensor)\n",
    "\n",
    "    detached_real = y_val_tensor.detach().cpu().numpy()\n",
    "    detached_pred = preds.detach().cpu().numpy()\n",
    "\n",
    "    metrics = {\n",
    "        \"Final Eval MAE\": mean_absolute_error(detached_real, detached_pred),\n",
    "        \"Final Eval R2\": r2_score(detached_real, detached_pred)\n",
    "    }\n",
    "\n",
    "    # Запишем данные по эксперименту в MLFlow\n",
    " \n",
    "    mlflow.log_params(model_params)\n",
    "    mlflow.log_metrics(metrics)\n",
    "    mlflow.pytorch.log_model(model, artifact_path)\n",
    "\n",
    "mlflow.end_run()\n",
    "\n",
    "print(metrics)"
   ]
  }
 ],
 "metadata": {
  "kernelspec": {
   "display_name": "Python 3",
   "language": "python",
   "name": "python3"
  },
  "language_info": {
   "codemirror_mode": {
    "name": "ipython",
    "version": 3
   },
   "file_extension": ".py",
   "mimetype": "text/x-python",
   "name": "python",
   "nbconvert_exporter": "python",
   "pygments_lexer": "ipython3",
   "version": "3.10.13"
  }
 },
 "nbformat": 4,
 "nbformat_minor": 2
}
